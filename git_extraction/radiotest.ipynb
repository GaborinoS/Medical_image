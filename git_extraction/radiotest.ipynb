{
 "cells": [
  {
   "cell_type": "code",
   "execution_count": 25,
   "metadata": {},
   "outputs": [],
   "source": [
    "import pydicom\n",
    "import SimpleITK as sitk\n",
    "\n",
    "def load_dicom_series(directory):\n",
    "    reader = sitk.ImageSeriesReader()\n",
    "    dicom_names = reader.GetGDCMSeriesFileNames(directory)\n",
    "    reader.SetFileNames(dicom_names)\n",
    "    image = reader.Execute()\n",
    "    return image\n",
    "\n",
    "\n",
    "\n",
    "ct_image = load_dicom_series('G:/Dokumente/MedicalIM/Pahnato4Radiometrics/manifest-1681918831927/CT-Phantom4Radiomics/SPHNQA4IQI/01-10-2017-101-ThoraxCTD01THROUTINENEU Adult-98669/101.000000-Harmonized b 10 mGy 2.0  I30f  3 axial - 1-71842')\n"
   ]
  },
  {
   "cell_type": "code",
   "execution_count": 26,
   "metadata": {},
   "outputs": [],
   "source": [
    "import os\n",
    "Folders = \"G:/Dokumente/MedicalIM/Pahnato4Radiometrics/manifest-1681918831927/CT-Phantom4Radiomics/SPHNQA4IQI/\"\n",
    "\n",
    "Folders\n",
    "ct_image = load_dicom_series('G:/Dokumente/MedicalIM/Pahnato4Radiometrics/manifest-1681918831927/CT-Phantom4Radiomics/SPHNQA4IQI/01-10-2017-101-ThoraxCTD01THROUTINENEU Adult-98669/101.000000-Harmonized b 10 mGy 2.0  I30f  3 axial - 1-71842')\n"
   ]
  },
  {
   "cell_type": "code",
   "execution_count": 27,
   "metadata": {},
   "outputs": [],
   "source": [
    "def load_dicom_file(file_path):\n",
    "    return sitk.ReadImage(file_path)\n",
    "\n",
    "mask = load_dicom_file('G:/Dokumente/MedicalIM/Pahnato4Radiometrics/manifest-1681918831927/CT-Phantom4Radiomics/SPHNQA4IQI/01-10-2017-101-ThoraxCTD01THROUTINENEU Adult-98669/101.000000-Harmonized b 10 mGy 2.0  I30f  3 axial - 1 - SEG-35360/1-1.dcm')"
   ]
  },
  {
   "cell_type": "code",
   "execution_count": 28,
   "metadata": {},
   "outputs": [
    {
     "data": {
      "text/plain": [
       "<SimpleITK.SimpleITK.Image; proxy of <Swig Object of type 'std::vector< itk::simple::Image >::value_type *' at 0x000001CA47E979C0> >"
      ]
     },
     "execution_count": 28,
     "metadata": {},
     "output_type": "execute_result"
    }
   ],
   "source": [
    "mask"
   ]
  },
  {
   "cell_type": "code",
   "execution_count": 29,
   "metadata": {},
   "outputs": [
    {
     "name": "stdout",
     "output_type": "stream",
     "text": [
      "diagnostics_Versions_PyRadiomics: 0+unknown\n",
      "diagnostics_Versions_Numpy: 1.26.2\n",
      "diagnostics_Versions_SimpleITK: 2.1.1.2\n",
      "diagnostics_Versions_PyWavelet: 1.2.0\n",
      "diagnostics_Versions_Python: 3.10.13\n",
      "diagnostics_Configuration_Settings: {'minimumROIDimensions': 2, 'minimumROISize': None, 'normalize': False, 'normalizeScale': 1, 'removeOutliers': None, 'resampledPixelSpacing': None, 'interpolator': 'sitkBSpline', 'preCrop': False, 'padDistance': 5, 'distances': [1], 'force2D': False, 'force2Ddimension': 0, 'resegmentRange': None, 'label': 255, 'additionalInfo': True, 'binWidth': 25, 'weightingNorm': None}\n",
      "diagnostics_Configuration_EnabledImageTypes: {'Original': {}}\n",
      "diagnostics_Image-original_Hash: 6b16bcf3ed3536f520b88973c518a579900713f0\n",
      "diagnostics_Image-original_Dimensionality: 3D\n",
      "diagnostics_Image-original_Spacing: (0.68359375, 0.68359375, 1.0)\n",
      "diagnostics_Image-original_Size: (512, 512, 343)\n",
      "diagnostics_Image-original_Mean: -583.0575106540157\n",
      "diagnostics_Image-original_Minimum: -1024.0\n",
      "diagnostics_Image-original_Maximum: 1002.0\n",
      "diagnostics_Mask-original_Hash: 9d1561d30136df75dc74cf599443ea5553d7f93f\n",
      "diagnostics_Mask-original_Spacing: (0.68359375, 0.68359375, 1.0)\n",
      "diagnostics_Mask-original_Size: (512, 512, 343)\n",
      "diagnostics_Mask-original_BoundingBox: (134, 210, 148, 378, 237, 154)\n",
      "diagnostics_Mask-original_VoxelNum: 576564\n",
      "diagnostics_Mask-original_VolumeNum: 6\n",
      "diagnostics_Mask-original_CenterOfMassIndex: (387.750216801604, 280.9637178179699, 215.9885043117503)\n",
      "diagnostics_Mask-original_CenterOfMass: (90.40542164172149, -148.09316164787214, 239.9885043117503)\n",
      "original_firstorder_10Percentile: -999.0\n",
      "original_firstorder_90Percentile: 77.0\n",
      "original_firstorder_Energy: 246325854898.0\n",
      "original_firstorder_Entropy: 3.6177198037732223\n",
      "original_firstorder_InterquartileRange: 1013.0\n",
      "original_firstorder_Kurtosis: 1.1297452155583032\n",
      "original_firstorder_Maximum: 744.0\n",
      "original_firstorder_MeanAbsoluteDeviation: 476.2081060133658\n",
      "original_firstorder_Mean: -435.5843340895373\n",
      "original_firstorder_Median: -107.0\n",
      "original_firstorder_Minimum: -1024.0\n",
      "original_firstorder_Range: 1768.0\n",
      "original_firstorder_RobustMeanAbsoluteDeviation: 459.44466427243844\n",
      "original_firstorder_RootMeanSquared: 653.6288882530181\n",
      "original_firstorder_Skewness: -0.20654088449777797\n",
      "original_firstorder_TotalEnergy: 115108174228.68729\n",
      "original_firstorder_Uniformity: 0.13800092265559694\n",
      "original_firstorder_Variance: 237497.01145465067\n",
      "original_glcm_Autocorrelation: 949.0391852152869\n",
      "original_glcm_JointAverage: 23.87799977957061\n",
      "original_glcm_ClusterProminence: 2579714.9205307486\n",
      "original_glcm_ClusterShade: -10928.707459190699\n",
      "original_glcm_ClusterTendency: 1518.2943549341655\n",
      "original_glcm_Contrast: 2.802815642008634\n",
      "original_glcm_Correlation: 0.9963148028973443\n",
      "original_glcm_DifferenceAverage: 0.6133705528062889\n",
      "original_glcm_DifferenceEntropy: 1.3713120897739457\n",
      "original_glcm_DifferenceVariance: 2.4008055443173815\n",
      "original_glcm_JointEnergy: 0.09133027908590188\n",
      "original_glcm_JointEntropy: 5.001029420817062\n",
      "original_glcm_Imc1: -0.6082219567165145\n",
      "original_glcm_Imc2: 0.9933670515966073\n",
      "original_glcm_Idm: 0.7885197510103278\n",
      "original_glcm_Idmn: 0.9994579668017973\n",
      "original_glcm_Id: 0.7968259276175826\n",
      "original_glcm_Idn: 0.9918491209389251\n",
      "original_glcm_InverseVariance: 0.314749569026037\n",
      "original_glcm_MaximumProbability: 0.27017776839265306\n",
      "original_glcm_SumEntropy: 4.380167161317202\n",
      "original_glcm_SumSquares: 380.2742926440438\n",
      "original_glrlm_GrayLevelNonUniformity: 16887.970287877986\n",
      "original_glrlm_GrayLevelNonUniformityNormalized: 0.07321471075274542\n",
      "original_glrlm_GrayLevelVariance: 318.2855471953782\n",
      "original_glrlm_HighGrayLevelRunEmphasis: 1187.3181346695624\n",
      "original_glrlm_LongRunEmphasis: 16.900252292035905\n",
      "original_glrlm_LongRunHighGrayLevelEmphasis: 8880.311315815552\n",
      "original_glrlm_LongRunLowGrayLevelEmphasis: 3.3261528872092523\n",
      "original_glrlm_LowGrayLevelRunEmphasis: 0.12760849215091621\n",
      "original_glrlm_RunEntropy: 6.350001220678924\n",
      "original_glrlm_RunLengthNonUniformity: 74839.49568339299\n",
      "original_glrlm_RunLengthNonUniformityNormalized: 0.31777596781883494\n",
      "original_glrlm_RunPercentage: 0.3997029084235362\n",
      "original_glrlm_RunVariance: 10.222149825866465\n",
      "original_glrlm_ShortRunEmphasis: 0.5729522461718434\n",
      "original_glrlm_ShortRunHighGrayLevelEmphasis: 729.5264089630532\n",
      "original_glrlm_ShortRunLowGrayLevelEmphasis: 0.061940353003734246\n",
      "original_glszm_GrayLevelNonUniformity: 188.25811506603984\n",
      "original_glszm_GrayLevelNonUniformityNormalized: 0.042144194104777224\n",
      "original_glszm_GrayLevelVariance: 291.68648270537426\n",
      "original_glszm_HighGrayLevelZoneEmphasis: 1256.7853145287665\n",
      "original_glszm_LargeAreaEmphasis: 8702020.45802552\n",
      "original_glszm_LargeAreaHighGrayLevelEmphasis: 1837488195.1383479\n",
      "original_glszm_LargeAreaLowGrayLevelEmphasis: 2161535.510909249\n",
      "original_glszm_LowGrayLevelZoneEmphasis: 0.10265997818381256\n",
      "original_glszm_SizeZoneNonUniformity: 828.7922543093799\n",
      "original_glszm_SizeZoneNonUniformityNormalized: 0.1855366586768256\n",
      "original_glszm_SmallAreaEmphasis: 0.43052568768620025\n",
      "original_glszm_SmallAreaHighGrayLevelEmphasis: 553.9591323805006\n",
      "original_glszm_SmallAreaLowGrayLevelEmphasis: 0.04718211027839385\n",
      "original_glszm_ZoneEntropy: 8.260890329626783\n",
      "original_glszm_ZonePercentage: 0.007747622120007493\n",
      "original_glszm_ZoneVariance: 8685360.912901912\n",
      "original_gldm_DependenceEntropy: 7.802915229639623\n",
      "original_gldm_DependenceNonUniformity: 25013.126070999922\n",
      "original_gldm_DependenceNonUniformityNormalized: 0.04338308682297182\n",
      "original_gldm_DependenceVariance: 48.364882716744084\n",
      "original_gldm_GrayLevelNonUniformity: 79566.36397000159\n",
      "original_gldm_GrayLevelVariance: 379.4239834615435\n",
      "original_gldm_HighGrayLevelEmphasis: 960.7934435726129\n",
      "original_gldm_LargeDependenceEmphasis: 324.18139183160935\n",
      "original_gldm_LargeDependenceHighGrayLevelEmphasis: 230395.17833059296\n",
      "original_gldm_LargeDependenceLowGrayLevelEmphasis: 58.68146436969523\n",
      "original_gldm_LowGrayLevelEmphasis: 0.15445036564701128\n",
      "original_gldm_SmallDependenceEmphasis: 0.013552625717810875\n",
      "original_gldm_SmallDependenceHighGrayLevelEmphasis: 17.018101395364706\n",
      "original_gldm_SmallDependenceLowGrayLevelEmphasis: 0.0013746175316319315\n"
     ]
    }
   ],
   "source": [
    "from radiomics import featureextractor\n",
    "\n",
    "\n",
    "def resample_image_to_reference(image, reference_image):\n",
    "    resampler = sitk.ResampleImageFilter()\n",
    "    resampler.SetReferenceImage(reference_image)\n",
    "    resampler.SetInterpolator(sitk.sitkNearestNeighbor)\n",
    "    resampler.SetTransform(sitk.Transform())\n",
    "    resampler.SetOutputSpacing(reference_image.GetSpacing())\n",
    "    resampler.SetSize(reference_image.GetSize())\n",
    "    resampler.SetOutputDirection(reference_image.GetDirection())\n",
    "    resampler.SetOutputOrigin(reference_image.GetOrigin())\n",
    "    return resampler.Execute(image)\n",
    "\n",
    "# Resample mask to match CT image\n",
    "resampled_mask = resample_image_to_reference(mask, ct_image)\n",
    "\n",
    "\n",
    "# Initialize feature extractor (assuming you have a params.yaml)\n",
    "params = 'C:/Users/Gabriel/OneDrive/Dokumente/GitHub/Medical_image/git_extraction/params/qa4iqi_params.yml'\n",
    "extractor = featureextractor.RadiomicsFeatureExtractor(params)\n",
    "\n",
    "features = extractor.execute(ct_image, resampled_mask, label=255)\n",
    "\n",
    "for feature_name, feature_value in features.items():\n",
    "    print(f\"{feature_name}: {feature_value}\")"
   ]
  },
  {
   "cell_type": "code",
   "execution_count": 30,
   "metadata": {},
   "outputs": [
    {
     "data": {
      "text/plain": [
       "odict_items([('diagnostics_Versions_PyRadiomics', '0+unknown'), ('diagnostics_Versions_Numpy', '1.26.2'), ('diagnostics_Versions_SimpleITK', '2.1.1.2'), ('diagnostics_Versions_PyWavelet', '1.2.0'), ('diagnostics_Versions_Python', '3.10.13'), ('diagnostics_Configuration_Settings', {'minimumROIDimensions': 2, 'minimumROISize': None, 'normalize': False, 'normalizeScale': 1, 'removeOutliers': None, 'resampledPixelSpacing': None, 'interpolator': 'sitkBSpline', 'preCrop': False, 'padDistance': 5, 'distances': [1], 'force2D': False, 'force2Ddimension': 0, 'resegmentRange': None, 'label': 255, 'additionalInfo': True, 'binWidth': 25, 'weightingNorm': None}), ('diagnostics_Configuration_EnabledImageTypes', {'Original': {}}), ('diagnostics_Image-original_Hash', '6b16bcf3ed3536f520b88973c518a579900713f0'), ('diagnostics_Image-original_Dimensionality', '3D'), ('diagnostics_Image-original_Spacing', (0.68359375, 0.68359375, 1.0)), ('diagnostics_Image-original_Size', (512, 512, 343)), ('diagnostics_Image-original_Mean', -583.0575106540157), ('diagnostics_Image-original_Minimum', -1024.0), ('diagnostics_Image-original_Maximum', 1002.0), ('diagnostics_Mask-original_Hash', '9d1561d30136df75dc74cf599443ea5553d7f93f'), ('diagnostics_Mask-original_Spacing', (0.68359375, 0.68359375, 1.0)), ('diagnostics_Mask-original_Size', (512, 512, 343)), ('diagnostics_Mask-original_BoundingBox', (134, 210, 148, 378, 237, 154)), ('diagnostics_Mask-original_VoxelNum', 576564), ('diagnostics_Mask-original_VolumeNum', 6), ('diagnostics_Mask-original_CenterOfMassIndex', (387.750216801604, 280.9637178179699, 215.9885043117503)), ('diagnostics_Mask-original_CenterOfMass', (90.40542164172149, -148.09316164787214, 239.9885043117503)), ('original_firstorder_10Percentile', array(-999.)), ('original_firstorder_90Percentile', array(77.)), ('original_firstorder_Energy', array(2.46325855e+11)), ('original_firstorder_Entropy', array(3.6177198)), ('original_firstorder_InterquartileRange', array(1013.)), ('original_firstorder_Kurtosis', array(1.12974522)), ('original_firstorder_Maximum', array(744.)), ('original_firstorder_MeanAbsoluteDeviation', array(476.20810601)), ('original_firstorder_Mean', array(-435.58433409)), ('original_firstorder_Median', array(-107.)), ('original_firstorder_Minimum', array(-1024.)), ('original_firstorder_Range', array(1768.)), ('original_firstorder_RobustMeanAbsoluteDeviation', array(459.44466427)), ('original_firstorder_RootMeanSquared', array(653.62888825)), ('original_firstorder_Skewness', array(-0.20654088)), ('original_firstorder_TotalEnergy', array(1.15108174e+11)), ('original_firstorder_Uniformity', array(0.13800092)), ('original_firstorder_Variance', array(237497.01145465)), ('original_glcm_Autocorrelation', array(949.03918522)), ('original_glcm_JointAverage', array(23.87799978)), ('original_glcm_ClusterProminence', array(2579714.92053075)), ('original_glcm_ClusterShade', array(-10928.70745919)), ('original_glcm_ClusterTendency', array(1518.29435493)), ('original_glcm_Contrast', array(2.80281564)), ('original_glcm_Correlation', array(0.9963148)), ('original_glcm_DifferenceAverage', array(0.61337055)), ('original_glcm_DifferenceEntropy', array(1.37131209)), ('original_glcm_DifferenceVariance', array(2.40080554)), ('original_glcm_JointEnergy', array(0.09133028)), ('original_glcm_JointEntropy', array(5.00102942)), ('original_glcm_Imc1', array(-0.60822196)), ('original_glcm_Imc2', array(0.99336705)), ('original_glcm_Idm', array(0.78851975)), ('original_glcm_Idmn', array(0.99945797)), ('original_glcm_Id', array(0.79682593)), ('original_glcm_Idn', array(0.99184912)), ('original_glcm_InverseVariance', array(0.31474957)), ('original_glcm_MaximumProbability', array(0.27017777)), ('original_glcm_SumEntropy', array(4.38016716)), ('original_glcm_SumSquares', array(380.27429264)), ('original_glrlm_GrayLevelNonUniformity', array(16887.97028788)), ('original_glrlm_GrayLevelNonUniformityNormalized', array(0.07321471)), ('original_glrlm_GrayLevelVariance', array(318.2855472)), ('original_glrlm_HighGrayLevelRunEmphasis', array(1187.31813467)), ('original_glrlm_LongRunEmphasis', array(16.90025229)), ('original_glrlm_LongRunHighGrayLevelEmphasis', array(8880.31131582)), ('original_glrlm_LongRunLowGrayLevelEmphasis', array(3.32615289)), ('original_glrlm_LowGrayLevelRunEmphasis', array(0.12760849)), ('original_glrlm_RunEntropy', array(6.35000122)), ('original_glrlm_RunLengthNonUniformity', array(74839.49568339)), ('original_glrlm_RunLengthNonUniformityNormalized', array(0.31777597)), ('original_glrlm_RunPercentage', array(0.39970291)), ('original_glrlm_RunVariance', array(10.22214983)), ('original_glrlm_ShortRunEmphasis', array(0.57295225)), ('original_glrlm_ShortRunHighGrayLevelEmphasis', array(729.52640896)), ('original_glrlm_ShortRunLowGrayLevelEmphasis', array(0.06194035)), ('original_glszm_GrayLevelNonUniformity', array(188.25811507)), ('original_glszm_GrayLevelNonUniformityNormalized', array(0.04214419)), ('original_glszm_GrayLevelVariance', array(291.68648271)), ('original_glszm_HighGrayLevelZoneEmphasis', array(1256.78531453)), ('original_glszm_LargeAreaEmphasis', array(8702020.45802552)), ('original_glszm_LargeAreaHighGrayLevelEmphasis', array(1.8374882e+09)), ('original_glszm_LargeAreaLowGrayLevelEmphasis', array(2161535.51090925)), ('original_glszm_LowGrayLevelZoneEmphasis', array(0.10265998)), ('original_glszm_SizeZoneNonUniformity', array(828.79225431)), ('original_glszm_SizeZoneNonUniformityNormalized', array(0.18553666)), ('original_glszm_SmallAreaEmphasis', array(0.43052569)), ('original_glszm_SmallAreaHighGrayLevelEmphasis', array(553.95913238)), ('original_glszm_SmallAreaLowGrayLevelEmphasis', array(0.04718211)), ('original_glszm_ZoneEntropy', array(8.26089033)), ('original_glszm_ZonePercentage', array(0.00774762)), ('original_glszm_ZoneVariance', array(8685360.91290191)), ('original_gldm_DependenceEntropy', array(7.80291523)), ('original_gldm_DependenceNonUniformity', array(25013.126071)), ('original_gldm_DependenceNonUniformityNormalized', array(0.04338309)), ('original_gldm_DependenceVariance', array(48.36488272)), ('original_gldm_GrayLevelNonUniformity', array(79566.36397)), ('original_gldm_GrayLevelVariance', array(379.42398346)), ('original_gldm_HighGrayLevelEmphasis', array(960.79344357)), ('original_gldm_LargeDependenceEmphasis', array(324.18139183)), ('original_gldm_LargeDependenceHighGrayLevelEmphasis', array(230395.17833059)), ('original_gldm_LargeDependenceLowGrayLevelEmphasis', array(58.68146437)), ('original_gldm_LowGrayLevelEmphasis', array(0.15445037)), ('original_gldm_SmallDependenceEmphasis', array(0.01355263)), ('original_gldm_SmallDependenceHighGrayLevelEmphasis', array(17.0181014)), ('original_gldm_SmallDependenceLowGrayLevelEmphasis', array(0.00137462))])"
      ]
     },
     "execution_count": 30,
     "metadata": {},
     "output_type": "execute_result"
    }
   ],
   "source": [
    "features.items()\n"
   ]
  }
 ],
 "metadata": {
  "kernelspec": {
   "display_name": "med2",
   "language": "python",
   "name": "python3"
  },
  "language_info": {
   "codemirror_mode": {
    "name": "ipython",
    "version": 3
   },
   "file_extension": ".py",
   "mimetype": "text/x-python",
   "name": "python",
   "nbconvert_exporter": "python",
   "pygments_lexer": "ipython3",
   "version": "3.10.13"
  }
 },
 "nbformat": 4,
 "nbformat_minor": 2
}
