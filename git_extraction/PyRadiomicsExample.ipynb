{
 "cells": [
  {
   "cell_type": "markdown",
   "metadata": {},
   "source": [
    "# Example of using the PyRadiomics toolbox in Python"
   ]
  },
  {
   "cell_type": "markdown",
   "metadata": {},
   "source": [
    "First, import some built-in Python modules needed to get our testing data.\n",
    "Second, import the toolbox, only the `featureextractor` is needed, this module handles the interaction with other parts of the toolbox."
   ]
  },
  {
   "cell_type": "code",
   "execution_count": 3,
   "metadata": {
    "collapsed": true
   },
   "outputs": [],
   "source": [
    "from __future__ import print_function\n",
    "import six\n",
    "import os  # needed navigate the system to get the input data\n",
    "\n"
   ]
  },
  {
   "cell_type": "code",
   "execution_count": 1,
   "metadata": {},
   "outputs": [],
   "source": [
    "import radiomics\n",
    "from radiomics import featureextractor"
   ]
  },
  {
   "cell_type": "markdown",
   "metadata": {},
   "source": [
    "### Setting up data"
   ]
  },
  {
   "cell_type": "markdown",
   "metadata": {},
   "source": [
    "Test cases can be downloaded to temporary files. This is handled by the `radiomics.getTestCase()` function, which checks if the requested test case is available and if not, downloads it. It returns a tuple with the location of the image and mask of the requested test case, or (None, None) if it fails.\n",
    "\n",
    "Alternatively, if the data is available somewhere locally, this directory can be passed as a second argument to `radiomics.getTestCase()`. If that directory does not exist or does not contain the testcase, functionality reverts to default and tries to download the test data.\n",
    "\n",
    "If getting the test case fails, PyRadiomics will log an error explaining the cause."
   ]
  },
  {
   "cell_type": "code",
   "execution_count": 4,
   "metadata": {
    "collapsed": false
   },
   "outputs": [
    {
     "name": "stdout",
     "output_type": "stream",
     "text": [
      "Parameter file, absolute path: c:\\Users\\Gabriel\\OneDrive\\Dokumente\\GitHub\\Medical_image\\examples\\exampleSettings\\Params.yaml\n"
     ]
    }
   ],
   "source": [
    "# Get the testCase\n",
    "imagePath, maskPath = radiomics.getTestCase('brain1')\n",
    "\n",
    "if imagePath is None or maskPath is None:  # Something went wrong, in this case PyRadiomics will also log an error\n",
    "    raise Exception('Error getting testcase!')  # Raise exception to prevent cells below from running in case of \"run all\"\n",
    "\n",
    "# Additonally, store the location of the example parameter file, stored in \\pyradiomics\\examples/exampleSettings\n",
    "paramPath = os.path.join('..', 'examples', 'exampleSettings', 'Params.yaml')\n",
    "print('Parameter file, absolute path:', os.path.abspath(paramPath))"
   ]
  },
  {
   "cell_type": "markdown",
   "metadata": {},
   "source": [
    "### Instantiating the extractor"
   ]
  },
  {
   "cell_type": "markdown",
   "metadata": {},
   "source": [
    "Now that we have our input, we need to define the parameters and instantiate the extractor.\n",
    "For this there are three possibilities:\n",
    "\n",
    "1. Use defaults, don't define custom settings\n",
    "\n",
    "2. Define parameters in a dictionary, control filters and features after initialisation\n",
    "\n",
    "3. Use a parameter file"
   ]
  },
  {
   "cell_type": "markdown",
   "metadata": {},
   "source": [
    "##### Method 1, use defaults"
   ]
  },
  {
   "cell_type": "code",
   "execution_count": 5,
   "metadata": {
    "collapsed": false
   },
   "outputs": [
    {
     "name": "stdout",
     "output_type": "stream",
     "text": [
      "Extraction parameters:\n",
      "\t {'minimumROIDimensions': 2, 'minimumROISize': None, 'normalize': False, 'normalizeScale': 1, 'removeOutliers': None, 'resampledPixelSpacing': None, 'interpolator': 'sitkBSpline', 'preCrop': False, 'padDistance': 5, 'distances': [1], 'force2D': False, 'force2Ddimension': 0, 'resegmentRange': None, 'label': 1, 'additionalInfo': True}\n",
      "Enabled filters:\n",
      "\t {'Original': {}}\n",
      "Enabled features:\n",
      "\t {'firstorder': [], 'glcm': [], 'gldm': [], 'glrlm': [], 'glszm': [], 'ngtdm': [], 'shape': []}\n"
     ]
    }
   ],
   "source": [
    "# Instantiate the extractor\n",
    "extractor = featureextractor.RadiomicsFeatureExtractor()\n",
    "\n",
    "print('Extraction parameters:\\n\\t', extractor.settings)\n",
    "print('Enabled filters:\\n\\t', extractor.enabledImagetypes)\n",
    "print('Enabled features:\\n\\t', extractor.enabledFeatures)"
   ]
  },
  {
   "cell_type": "markdown",
   "metadata": {},
   "source": [
    "##### Method 2, hard-coded settings:"
   ]
  },
  {
   "cell_type": "code",
   "execution_count": 6,
   "metadata": {
    "collapsed": false
   },
   "outputs": [
    {
     "name": "stdout",
     "output_type": "stream",
     "text": [
      "Extraction parameters:\n",
      "\t {'minimumROIDimensions': 2, 'minimumROISize': None, 'normalize': False, 'normalizeScale': 1, 'removeOutliers': None, 'resampledPixelSpacing': None, 'interpolator': 'sitkBSpline', 'preCrop': False, 'padDistance': 5, 'distances': [1], 'force2D': False, 'force2Ddimension': 0, 'resegmentRange': None, 'label': 1, 'additionalInfo': True, 'binWidth': 20, 'sigma': [1, 2, 3]}\n",
      "Enabled filters:\n",
      "\t {'Original': {}}\n",
      "Enabled features:\n",
      "\t {'firstorder': [], 'glcm': [], 'gldm': [], 'glrlm': [], 'glszm': [], 'ngtdm': [], 'shape': []}\n"
     ]
    }
   ],
   "source": [
    "# First define the settings\n",
    "settings = {}\n",
    "settings['binWidth'] = 20\n",
    "settings['sigma'] = [1, 2, 3]\n",
    "\n",
    "# Instantiate the extractor\n",
    "extractor = featureextractor.RadiomicsFeatureExtractor(**settings)  # ** 'unpacks' the dictionary in the function call\n",
    "\n",
    "print('Extraction parameters:\\n\\t', extractor.settings)\n",
    "print('Enabled filters:\\n\\t', extractor.enabledImagetypes)  # Still the default parameters\n",
    "print('Enabled features:\\n\\t', extractor.enabledFeatures)  # Still the default parameters"
   ]
  },
  {
   "cell_type": "code",
   "execution_count": 7,
   "metadata": {
    "collapsed": false
   },
   "outputs": [
    {
     "name": "stdout",
     "output_type": "stream",
     "text": [
      "Extraction parameters:\n",
      "\t {'minimumROIDimensions': 2, 'minimumROISize': None, 'normalize': False, 'normalizeScale': 1, 'removeOutliers': None, 'resampledPixelSpacing': None, 'interpolator': 'sitkBSpline', 'preCrop': False, 'padDistance': 5, 'distances': [1], 'force2D': False, 'force2Ddimension': 0, 'resegmentRange': None, 'label': 1, 'additionalInfo': True, 'binWidth': 20, 'sigma': [1, 2, 3]}\n",
      "Enabled filters:\n",
      "\t {'Original': {}}\n",
      "Enabled features:\n",
      "\t {'firstorder': [], 'glcm': [], 'gldm': [], 'glrlm': [], 'glszm': [], 'ngtdm': [], 'shape': []}\n"
     ]
    }
   ],
   "source": [
    "# This cell is equivalent to the previous cell\n",
    "extractor = featureextractor.RadiomicsFeatureExtractor(binWidth=20, sigma=[1, 2, 3])  # Equivalent of code above\n",
    "\n",
    "print('Extraction parameters:\\n\\t', extractor.settings)\n",
    "print('Enabled filters:\\n\\t', extractor.enabledImagetypes)  # Still the default parameters\n",
    "print('Enabled features:\\n\\t', extractor.enabledFeatures)  # Still the default parameters"
   ]
  },
  {
   "cell_type": "code",
   "execution_count": 8,
   "metadata": {
    "collapsed": false
   },
   "outputs": [
    {
     "name": "stdout",
     "output_type": "stream",
     "text": [
      "\n",
      "Enabled filters:\n",
      "\t {'Original': {}, 'LoG': {}}\n",
      "\n",
      "Enabled features:\n",
      "\t {'firstorder': []}\n",
      "\n",
      "Enabled features:\n",
      "\t {'firstorder': [], 'glcm': ['Autocorrelation', 'Homogeneity1', 'SumSquares']}\n"
     ]
    }
   ],
   "source": [
    "# Enable a filter (in addition to the 'Original' filter already enabled)\n",
    "extractor.enableImageTypeByName('LoG')\n",
    "print('')\n",
    "print('Enabled filters:\\n\\t', extractor.enabledImagetypes)\n",
    "\n",
    "# Disable all feature classes, save firstorder\n",
    "extractor.disableAllFeatures()\n",
    "extractor.enableFeatureClassByName('firstorder')\n",
    "print('')\n",
    "print('Enabled features:\\n\\t', extractor.enabledFeatures)\n",
    "\n",
    "# Specify some additional features in the GLCM feature class\n",
    "extractor.enableFeaturesByName(glcm=['Autocorrelation', 'Homogeneity1', 'SumSquares'])\n",
    "print('')\n",
    "print('Enabled features:\\n\\t', extractor.enabledFeatures)"
   ]
  },
  {
   "cell_type": "markdown",
   "metadata": {},
   "source": [
    "##### Method 3, using a parameter file"
   ]
  },
  {
   "cell_type": "code",
   "execution_count": 9,
   "metadata": {
    "collapsed": false
   },
   "outputs": [
    {
     "ename": "OSError",
     "evalue": "Parameter file ..\\examples\\exampleSettings\\Params.yaml does not exist.",
     "output_type": "error",
     "traceback": [
      "\u001b[1;31m---------------------------------------------------------------------------\u001b[0m",
      "\u001b[1;31mOSError\u001b[0m                                   Traceback (most recent call last)",
      "\u001b[1;32mc:\\Users\\Gabriel\\OneDrive\\Dokumente\\GitHub\\Medical_image\\git_extraction\\PyRadiomicsExample.ipynb Cell 17\u001b[0m line \u001b[0;36m2\n\u001b[0;32m      <a href='vscode-notebook-cell:/c%3A/Users/Gabriel/OneDrive/Dokumente/GitHub/Medical_image/git_extraction/PyRadiomicsExample.ipynb#X22sZmlsZQ%3D%3D?line=0'>1</a>\u001b[0m \u001b[39m# Instantiate the extractor\u001b[39;00m\n\u001b[1;32m----> <a href='vscode-notebook-cell:/c%3A/Users/Gabriel/OneDrive/Dokumente/GitHub/Medical_image/git_extraction/PyRadiomicsExample.ipynb#X22sZmlsZQ%3D%3D?line=1'>2</a>\u001b[0m extractor \u001b[39m=\u001b[39m featureextractor\u001b[39m.\u001b[39;49mRadiomicsFeatureExtractor(paramPath)\n\u001b[0;32m      <a href='vscode-notebook-cell:/c%3A/Users/Gabriel/OneDrive/Dokumente/GitHub/Medical_image/git_extraction/PyRadiomicsExample.ipynb#X22sZmlsZQ%3D%3D?line=3'>4</a>\u001b[0m \u001b[39mprint\u001b[39m(\u001b[39m'\u001b[39m\u001b[39mExtraction parameters:\u001b[39m\u001b[39m\\n\u001b[39;00m\u001b[39m\\t\u001b[39;00m\u001b[39m'\u001b[39m, extractor\u001b[39m.\u001b[39msettings)\n\u001b[0;32m      <a href='vscode-notebook-cell:/c%3A/Users/Gabriel/OneDrive/Dokumente/GitHub/Medical_image/git_extraction/PyRadiomicsExample.ipynb#X22sZmlsZQ%3D%3D?line=4'>5</a>\u001b[0m \u001b[39mprint\u001b[39m(\u001b[39m'\u001b[39m\u001b[39mEnabled filters:\u001b[39m\u001b[39m\\n\u001b[39;00m\u001b[39m\\t\u001b[39;00m\u001b[39m'\u001b[39m, extractor\u001b[39m.\u001b[39menabledImagetypes)\n",
      "File \u001b[1;32mc:\\Users\\Gabriel\\anaconda3\\envs\\med2\\lib\\site-packages\\radiomics\\featureextractor.py:61\u001b[0m, in \u001b[0;36mRadiomicsFeatureExtractor.__init__\u001b[1;34m(self, *args, **kwargs)\u001b[0m\n\u001b[0;32m     59\u001b[0m \u001b[39melif\u001b[39;00m \u001b[39mlen\u001b[39m(args) \u001b[39m==\u001b[39m \u001b[39m1\u001b[39m \u001b[39mand\u001b[39;00m (\u001b[39misinstance\u001b[39m(args[\u001b[39m0\u001b[39m], six\u001b[39m.\u001b[39mstring_types) \u001b[39mor\u001b[39;00m \u001b[39misinstance\u001b[39m(args[\u001b[39m0\u001b[39m], pathlib\u001b[39m.\u001b[39mPurePath)):\n\u001b[0;32m     60\u001b[0m   \u001b[39mif\u001b[39;00m \u001b[39mnot\u001b[39;00m os\u001b[39m.\u001b[39mpath\u001b[39m.\u001b[39misfile(args[\u001b[39m0\u001b[39m]):\n\u001b[1;32m---> 61\u001b[0m     \u001b[39mraise\u001b[39;00m \u001b[39mIOError\u001b[39;00m(\u001b[39m\"\u001b[39m\u001b[39mParameter file \u001b[39m\u001b[39m%s\u001b[39;00m\u001b[39m does not exist.\u001b[39m\u001b[39m\"\u001b[39m \u001b[39m%\u001b[39m args[\u001b[39m0\u001b[39m])\n\u001b[0;32m     62\u001b[0m   logger\u001b[39m.\u001b[39minfo(\u001b[39m\"\u001b[39m\u001b[39mLoading parameter file \u001b[39m\u001b[39m%s\u001b[39;00m\u001b[39m\"\u001b[39m, \u001b[39mstr\u001b[39m(args[\u001b[39m0\u001b[39m]))\n\u001b[0;32m     63\u001b[0m   \u001b[39mself\u001b[39m\u001b[39m.\u001b[39m_applyParams(paramsFile\u001b[39m=\u001b[39margs[\u001b[39m0\u001b[39m])\n",
      "\u001b[1;31mOSError\u001b[0m: Parameter file ..\\examples\\exampleSettings\\Params.yaml does not exist."
     ]
    }
   ],
   "source": [
    "# Instantiate the extractor\n",
    "extractor = featureextractor.RadiomicsFeatureExtractor(paramPath)\n",
    "\n",
    "print('Extraction parameters:\\n\\t', extractor.settings)\n",
    "print('Enabled filters:\\n\\t', extractor.enabledImagetypes)\n",
    "print('Enabled features:\\n\\t', extractor.enabledFeatures)"
   ]
  },
  {
   "cell_type": "markdown",
   "metadata": {
    "collapsed": true
   },
   "source": [
    "### Extract features"
   ]
  },
  {
   "cell_type": "markdown",
   "metadata": {},
   "source": [
    "Now that we have our extractor set up with the correct parameters, we can start extracting features:"
   ]
  },
  {
   "cell_type": "code",
   "execution_count": 10,
   "metadata": {
    "collapsed": false
   },
   "outputs": [
    {
     "name": "stderr",
     "output_type": "stream",
     "text": [
      "Feature Homogeneity1 is deprecated, use with caution!\n",
      "Feature Homogeneity1 is deprecated, use with caution!\n",
      "Feature Homogeneity1 is deprecated, use with caution!\n",
      "Feature Homogeneity1 is deprecated, use with caution!\n"
     ]
    }
   ],
   "source": [
    "result = extractor.execute(imagePath, maskPath)"
   ]
  },
  {
   "cell_type": "code",
   "execution_count": 11,
   "metadata": {
    "collapsed": false,
    "scrolled": false
   },
   "outputs": [
    {
     "name": "stdout",
     "output_type": "stream",
     "text": [
      "Result type: <class 'collections.OrderedDict'>\n",
      "\n",
      "Calculated features\n",
      "\t diagnostics_Versions_PyRadiomics : 0+unknown\n",
      "\t diagnostics_Versions_Numpy : 1.22.1\n",
      "\t diagnostics_Versions_SimpleITK : 2.1.1.2\n",
      "\t diagnostics_Versions_PyWavelet : 1.2.0\n",
      "\t diagnostics_Versions_Python : 3.10.13\n",
      "\t diagnostics_Configuration_Settings : {'minimumROIDimensions': 2, 'minimumROISize': None, 'normalize': False, 'normalizeScale': 1, 'removeOutliers': None, 'resampledPixelSpacing': None, 'interpolator': 'sitkBSpline', 'preCrop': False, 'padDistance': 5, 'distances': [1], 'force2D': False, 'force2Ddimension': 0, 'resegmentRange': None, 'label': 1, 'additionalInfo': True, 'binWidth': 20, 'sigma': [1, 2, 3]}\n",
      "\t diagnostics_Configuration_EnabledImageTypes : {'Original': {}, 'LoG': {}}\n",
      "\t diagnostics_Image-original_Hash : 5c9ce3ca174f0f8324aa4d277e0fef82dc5ac566\n",
      "\t diagnostics_Image-original_Dimensionality : 3D\n",
      "\t diagnostics_Image-original_Spacing : (0.7812499999999999, 0.7812499999999999, 6.499999999999998)\n",
      "\t diagnostics_Image-original_Size : (256, 256, 25)\n",
      "\t diagnostics_Image-original_Mean : 385.6564080810547\n",
      "\t diagnostics_Image-original_Minimum : 0.0\n",
      "\t diagnostics_Image-original_Maximum : 3057.0\n",
      "\t diagnostics_Mask-original_Hash : 9dc2c3137b31fd872997d92c9a92d5178126d9d3\n",
      "\t diagnostics_Mask-original_Spacing : (0.7812499999999999, 0.7812499999999999, 6.499999999999998)\n",
      "\t diagnostics_Mask-original_Size : (256, 256, 25)\n",
      "\t diagnostics_Mask-original_BoundingBox : (162, 84, 11, 47, 70, 7)\n",
      "\t diagnostics_Mask-original_VoxelNum : 4137\n",
      "\t diagnostics_Mask-original_VolumeNum : 2\n",
      "\t diagnostics_Mask-original_CenterOfMassIndex : (186.98549673676578, 106.3562968334542, 14.38917089678511)\n",
      "\t diagnostics_Mask-original_CenterOfMass : (46.47304432559825, 16.518518098863908, 15.529610829103234)\n",
      "\t original_firstorder_10Percentile : 632.0\n",
      "\t original_firstorder_90Percentile : 1044.4\n",
      "\t original_firstorder_Energy : 2918821481.0\n",
      "\t original_firstorder_Entropy : 4.920992838328338\n",
      "\t original_firstorder_InterquartileRange : 253.0\n",
      "\t original_firstorder_Kurtosis : 2.1807729393860265\n",
      "\t original_firstorder_Maximum : 1266.0\n",
      "\t original_firstorder_MeanAbsoluteDeviation : 133.44726195252767\n",
      "\t original_firstorder_Mean : 825.2354363065023\n",
      "\t original_firstorder_Median : 812.0\n",
      "\t original_firstorder_Minimum : 468.0\n",
      "\t original_firstorder_Range : 798.0\n",
      "\t original_firstorder_RobustMeanAbsoluteDeviation : 103.00138343026683\n",
      "\t original_firstorder_RootMeanSquared : 839.9646448180755\n",
      "\t original_firstorder_Skewness : 0.27565085908587594\n",
      "\t original_firstorder_TotalEnergy : 11579797135.314934\n",
      "\t original_firstorder_Uniformity : 0.03626978547008142\n",
      "\t original_firstorder_Variance : 24527.07920837261\n",
      "\t original_glcm_Autocorrelation : 426.9144955153632\n",
      "\t original_glcm_SumSquares : 61.065765198779744\n",
      "\t log-sigma-1-mm-3D_firstorder_10Percentile : -104.93405303955078\n",
      "\t log-sigma-1-mm-3D_firstorder_90Percentile : 54.79034423828126\n",
      "\t log-sigma-1-mm-3D_firstorder_Energy : 18272859.744011104\n",
      "\t log-sigma-1-mm-3D_firstorder_Entropy : 3.6904207681220935\n",
      "\t log-sigma-1-mm-3D_firstorder_InterquartileRange : 81.87671852111816\n",
      "\t log-sigma-1-mm-3D_firstorder_Kurtosis : 3.0718243807249306\n",
      "\t log-sigma-1-mm-3D_firstorder_Maximum : 164.7267608642578\n",
      "\t log-sigma-1-mm-3D_firstorder_MeanAbsoluteDeviation : 49.664661651136576\n",
      "\t log-sigma-1-mm-3D_firstorder_Mean : -22.046027443210075\n",
      "\t log-sigma-1-mm-3D_firstorder_Median : -18.91979217529297\n",
      "\t log-sigma-1-mm-3D_firstorder_Minimum : -255.25962829589844\n",
      "\t log-sigma-1-mm-3D_firstorder_Range : 419.98638916015625\n",
      "\t log-sigma-1-mm-3D_firstorder_RobustMeanAbsoluteDeviation : 34.30945152372748\n",
      "\t log-sigma-1-mm-3D_firstorder_RootMeanSquared : 66.46002494100189\n",
      "\t log-sigma-1-mm-3D_firstorder_Skewness : -0.22090525170411393\n",
      "\t log-sigma-1-mm-3D_firstorder_TotalEnergy : 72493645.22465338\n",
      "\t log-sigma-1-mm-3D_firstorder_Uniformity : 0.09146912821318245\n",
      "\t log-sigma-1-mm-3D_firstorder_Variance : 3930.907589131821\n",
      "\t log-sigma-1-mm-3D_glcm_Autocorrelation : 158.94161358114894\n",
      "\t log-sigma-1-mm-3D_glcm_SumSquares : 9.906746861090935\n",
      "\t log-sigma-2-mm-3D_firstorder_10Percentile : -156.92530517578123\n",
      "\t log-sigma-2-mm-3D_firstorder_90Percentile : 33.72339248657228\n",
      "\t log-sigma-2-mm-3D_firstorder_Energy : 36470690.6741649\n",
      "\t log-sigma-2-mm-3D_firstorder_Entropy : 3.9374220962785422\n",
      "\t log-sigma-2-mm-3D_firstorder_InterquartileRange : 97.78975415229797\n",
      "\t log-sigma-2-mm-3D_firstorder_Kurtosis : 3.20297440291264\n",
      "\t log-sigma-2-mm-3D_firstorder_Maximum : 146.8539581298828\n",
      "\t log-sigma-2-mm-3D_firstorder_MeanAbsoluteDeviation : 59.810289407925076\n",
      "\t log-sigma-2-mm-3D_firstorder_Mean : -55.51394134967734\n",
      "\t log-sigma-2-mm-3D_firstorder_Median : -48.21199417114258\n",
      "\t log-sigma-2-mm-3D_firstorder_Minimum : -315.0959777832031\n",
      "\t log-sigma-2-mm-3D_firstorder_Range : 461.94993591308594\n",
      "\t log-sigma-2-mm-3D_firstorder_RobustMeanAbsoluteDeviation : 40.97625965604661\n",
      "\t log-sigma-2-mm-3D_firstorder_RootMeanSquared : 93.89213910843893\n",
      "\t log-sigma-2-mm-3D_firstorder_Skewness : -0.4568283248118485\n",
      "\t log-sigma-2-mm-3D_firstorder_TotalEnergy : 144689629.7497996\n",
      "\t log-sigma-2-mm-3D_firstorder_Uniformity : 0.07731994513043092\n",
      "\t log-sigma-2-mm-3D_firstorder_Variance : 5733.936102183033\n",
      "\t log-sigma-2-mm-3D_glcm_Autocorrelation : 193.7588005888792\n",
      "\t log-sigma-2-mm-3D_glcm_SumSquares : 14.323979941609215\n",
      "\t log-sigma-3-mm-3D_firstorder_10Percentile : -197.01734008789063\n",
      "\t log-sigma-3-mm-3D_firstorder_90Percentile : 13.917341041564946\n",
      "\t log-sigma-3-mm-3D_firstorder_Energy : 56119386.49315185\n",
      "\t log-sigma-3-mm-3D_firstorder_Entropy : 4.035415339157783\n",
      "\t log-sigma-3-mm-3D_firstorder_InterquartileRange : 103.15813827514648\n",
      "\t log-sigma-3-mm-3D_firstorder_Kurtosis : 3.1833658319698688\n",
      "\t log-sigma-3-mm-3D_firstorder_Maximum : 114.29669189453125\n",
      "\t log-sigma-3-mm-3D_firstorder_MeanAbsoluteDeviation : 64.33120246325181\n",
      "\t log-sigma-3-mm-3D_firstorder_Mean : -82.73554694841455\n",
      "\t log-sigma-3-mm-3D_firstorder_Median : -73.3129653930664\n",
      "\t log-sigma-3-mm-3D_firstorder_Minimum : -354.3352355957031\n",
      "\t log-sigma-3-mm-3D_firstorder_Range : 468.6319274902344\n",
      "\t log-sigma-3-mm-3D_firstorder_RobustMeanAbsoluteDeviation : 43.37792439842861\n",
      "\t log-sigma-3-mm-3D_firstorder_RootMeanSquared : 116.46989846118638\n",
      "\t log-sigma-3-mm-3D_firstorder_Skewness : -0.49838634399478493\n",
      "\t log-sigma-3-mm-3D_firstorder_TotalEnergy : 222641609.01213792\n",
      "\t log-sigma-3-mm-3D_firstorder_Uniformity : 0.07292339148720033\n",
      "\t log-sigma-3-mm-3D_firstorder_Variance : 6720.0665187057575\n",
      "\t log-sigma-3-mm-3D_glcm_Autocorrelation : 205.82027341539165\n",
      "\t log-sigma-3-mm-3D_glcm_SumSquares : 16.60985878595956\n"
     ]
    }
   ],
   "source": [
    "print('Result type:', type(result))  # result is returned in a Python ordered dictionary)\n",
    "print('')\n",
    "print('Calculated features')\n",
    "for key, value in six.iteritems(result):\n",
    "    print('\\t', key, ':', value)"
   ]
  }
 ],
 "metadata": {
  "kernelspec": {
   "display_name": "medical",
   "language": "python",
   "name": "python3"
  },
  "language_info": {
   "codemirror_mode": {
    "name": "ipython",
    "version": 3
   },
   "file_extension": ".py",
   "mimetype": "text/x-python",
   "name": "python",
   "nbconvert_exporter": "python",
   "pygments_lexer": "ipython3",
   "version": "3.10.13"
  }
 },
 "nbformat": 4,
 "nbformat_minor": 0
}
